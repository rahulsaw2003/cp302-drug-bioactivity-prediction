{
  "cells": [
    {
      "cell_type": "code",
      "execution_count": null,
      "metadata": {
        "id": "Lh6ExJvyuX9_"
      },
      "outputs": [],
      "source": [
        "import pandas as pd\n",
        "import numpy as np\n",
        "import matplotlib.pyplot as plt\n",
        "from sklearn.model_selection import train_test_split\n",
        "from sklearn.ensemble import RandomForestRegressor\n",
        "from sklearn.metrics import mean_squared_error\n",
        "from sklearn.feature_selection import VarianceThreshold\n",
        "from sklearn.preprocessing import MinMaxScaler"
      ]
    },
    {
      "cell_type": "code",
      "execution_count": null,
      "metadata": {
        "id": "WO1lHyzoubxV"
      },
      "outputs": [],
      "source": [
        "# Step 1: Read data from CSV and rename columns\n",
        "data = pd.read_csv('dataset.csv')\n",
        "\n",
        "# Rename PubchemFP columns to x1, x2, x3, ..., x881\n",
        "new_column_names = ['x{}'.format(i) for i in range(1, 882)]\n",
        "data.columns = new_column_names + ['pIC50']  # Assuming the last column is pIC50\n",
        "\n",
        "# Prepare data for modeling\n",
        "X = data[new_column_names]  # Features\n",
        "y = data['pIC50']  # Target variable"
      ]
    },
    {
      "cell_type": "code",
      "execution_count": null,
      "metadata": {
        "id": "C6xnN9pRukQ5"
      },
      "outputs": [],
      "source": [
        "# Step 2: Split data into training and validation sets\n",
        "X_train, X_val, y_train, y_val = train_test_split(X, y, test_size=0.2, random_state=42)"
      ]
    },
    {
      "cell_type": "code",
      "execution_count": null,
      "metadata": {
        "id": "n2ACLmeQumTG"
      },
      "outputs": [],
      "source": [
        "# Step 3: Normalize features\n",
        "scaler = MinMaxScaler()\n",
        "X_train_scaled = scaler.fit_transform(X_train)\n",
        "X_val_scaled = scaler.transform(X_val)"
      ]
    },
    {
      "cell_type": "code",
      "execution_count": null,
      "metadata": {
        "id": "9yIwEmbfuoye"
      },
      "outputs": [],
      "source": [
        "# Step 4: Define the range of threshold values to search over\n",
        "threshold_values = [0.01, 0.05, 0.1, 0.15, 0.2]"
      ]
    },
    {
      "cell_type": "code",
      "execution_count": null,
      "metadata": {
        "id": "PcsjpYzTur_r"
      },
      "outputs": [],
      "source": [
        "# Step 5: Perform grid search to find the optimal threshold\n",
        "best_threshold = None\n",
        "best_mse = np.inf\n",
        "mse_values = []\n",
        "\n",
        "for threshold in threshold_values:\n",
        "    # Apply variance thresholding\n",
        "    selector = VarianceThreshold(threshold=threshold)\n",
        "    X_train_filtered = selector.fit_transform(X_train_scaled)\n",
        "    X_val_filtered = selector.transform(X_val_scaled)\n",
        "\n",
        "    # Train Random Forest Regression on filtered features\n",
        "    rf_model = RandomForestRegressor(n_estimators=100, random_state=42)\n",
        "    rf_model.fit(X_train_filtered, y_train)\n",
        "\n",
        "    # Evaluate model on validation set\n",
        "    y_pred = rf_model.predict(X_val_filtered)\n",
        "    mse = mean_squared_error(y_val, y_pred)\n",
        "    mse_values.append(mse)\n",
        "\n",
        "    # Check if this threshold gives a better MSE\n",
        "    if mse < best_mse:\n",
        "        best_mse = mse\n",
        "        best_threshold = threshold"
      ]
    },
    {
      "cell_type": "code",
      "execution_count": null,
      "metadata": {
        "colab": {
          "base_uri": "https://localhost:8080/",
          "height": 522
        },
        "id": "Tc7KQSZKuuo7",
        "outputId": "1b4f8891-c9b8-4a34-9c9f-348cda7e404a"
      },
      "outputs": [],
      "source": [
        "# Step 6: Print the best threshold and corresponding MSE\n",
        "print(f\"Best Threshold: {best_threshold}\")\n",
        "print(f\"Best MSE: {best_mse}\")\n",
        "\n",
        "# Optional: Plot MSE vs. Threshold\n",
        "plt.figure(figsize=(7, 5))\n",
        "plt.plot(threshold_values, mse_values, marker='o')\n",
        "plt.xlabel('Variance Threshold')\n",
        "plt.ylabel('Mean Squared Error (MSE)')\n",
        "plt.title('MSE vs. Variance Threshold')\n",
        "plt.grid(True)\n",
        "plt.savefig('MSE vs. Variance Threshold.png')\n",
        "plt.show()"
      ]
    }
  ],
  "metadata": {
    "colab": {
      "provenance": []
    },
    "kernelspec": {
      "display_name": "Python 3",
      "name": "python3"
    },
    "language_info": {
      "name": "python"
    }
  },
  "nbformat": 4,
  "nbformat_minor": 0
}
