{
  "cells": [
    {
      "cell_type": "code",
      "execution_count": null,
      "metadata": {
        "id": "I7GXIv4VMgnS"
      },
      "outputs": [],
      "source": [
        "import pandas as pd\n",
        "import numpy as np\n",
        "import matplotlib.pyplot as plt\n",
        "from sklearn.model_selection import train_test_split, GridSearchCV\n",
        "from sklearn.linear_model import Lasso\n",
        "from sklearn.ensemble import RandomForestRegressor\n",
        "from sklearn.preprocessing import MinMaxScaler\n",
        "from sklearn.feature_selection import VarianceThreshold\n",
        "from sklearn.metrics import mean_squared_error, r2_score"
      ]
    },
    {
      "cell_type": "code",
      "execution_count": null,
      "metadata": {
        "id": "SGOkEkZsg7cc"
      },
      "outputs": [],
      "source": [
        "def AIC(y_pred,y_real,x):\n",
        "    mseloss=mean_squared_error(y_pred,y_real)\n",
        "    x_len=y_pred.shape[0]\n",
        "    n_features=x.shape[1]\n",
        "\n",
        "    aic=2*n_features-2*np.log(mseloss)\n",
        "\n",
        "    return aic\n",
        "\n",
        "def BIC(y_pred,y_real,x):\n",
        "    mseloss=mean_squared_error(y_pred,y_real)\n",
        "    x_len=y_pred.shape[0]\n",
        "    n_features=x.shape[1]\n",
        "\n",
        "    bic=np.log(x_len)*n_features - 2*np.log(mseloss)\n",
        "\n",
        "    return bic"
      ]
    },
    {
      "cell_type": "code",
      "execution_count": null,
      "metadata": {
        "colab": {
          "base_uri": "https://localhost:8080/",
          "height": 423
        },
        "id": "l_nozCHmMquy",
        "outputId": "ec42de17-d6fa-4335-a4c6-1ad98b21ed32"
      },
      "outputs": [],
      "source": [
        "# Step 1: Read data from CSV and rename columns\n",
        "data = pd.read_csv('/content/dataset.csv')\n",
        "\n",
        "# Rename PubchemFP columns to x1, x2, x3, ..., x881\n",
        "new_column_names = ['x{}'.format(i) for i in range(1, 882)]\n",
        "data.columns = new_column_names + ['pIC50']  # Assuming the last column is pIC50\n",
        "\n",
        "# Prepare data for modeling\n",
        "X = data[new_column_names]  # Features\n",
        "y = data['pIC50']  # Target variable\n",
        "data"
      ]
    },
    {
      "cell_type": "code",
      "execution_count": null,
      "metadata": {
        "colab": {
          "base_uri": "https://localhost:8080/"
        },
        "id": "OrIoxxN6s8y7",
        "outputId": "31c097c1-4804-4e56-b523-c6532d307ebc"
      },
      "outputs": [],
      "source": [
        "\n",
        "\n",
        "# Step 2: Split data into training and validation sets\n",
        "X_train, X_val, y_train, y_val = train_test_split(X, y, test_size=0.2, random_state=42)\n",
        "\n",
        "# Step 3: Train Random Forest model\n",
        "rf_model_all = RandomForestRegressor(n_estimators=100, random_state=42)\n",
        "rf_model_all.fit(X_train, y_train)\n",
        "\n",
        "# Step 4: Evaluate Random Forest model on validation set\n",
        "y_pred_rf = rf_model_all.predict(X_val)\n",
        "\n",
        "mse_rf = mean_squared_error(y_val, y_pred_rf)\n",
        "r2_rf = r2_score(y_val, y_pred_rf)\n",
        "\n",
        "aic=AIC(y_pred_rf,y_val,X_train)\n",
        "\n",
        "print(\"Random Forest Model Evaluation: All Features\")\n",
        "print(f\"MSE: {mse_rf}\")\n",
        "print(f\"R-squared (R2): {r2_rf}\")\n",
        "print(f\"AIC: {aic}\")"
      ]
    },
    {
      "cell_type": "code",
      "execution_count": null,
      "metadata": {
        "colab": {
          "base_uri": "https://localhost:8080/",
          "height": 564
        },
        "id": "W6ywtbe3tg8-",
        "outputId": "871e8770-657d-47b6-f273-226ba7c51898"
      },
      "outputs": [],
      "source": [
        "# Plotting predicted vs. actual values\n",
        "plt.figure(figsize=(8, 6))\n",
        "plt.scatter(y_val, y_pred_rf, color='blue', alpha=0.5)  # Scatter plot of actual vs. predicted values\n",
        "plt.plot([min(y_val), max(y_val)], [min(y_val), max(y_val)], color='red', linestyle='--')  # Diagonal line\n",
        "plt.xlabel('Actual pIC50')\n",
        "plt.ylabel('Predicted pIC50')\n",
        "plt.title('Actual vs. Predicted pIC50 (All Features + Random Forest)')\n",
        "plt.grid(True)\n",
        "\n",
        "plt.savefig('Actual vs. Predicted pIC50_all_features.png')\n",
        "plt.show()"
      ]
    },
    {
      "cell_type": "code",
      "execution_count": null,
      "metadata": {
        "colab": {
          "base_uri": "https://localhost:8080/",
          "height": 423
        },
        "id": "UpMKVwsXMxpD",
        "outputId": "3b54ad9e-a4ab-48c7-f545-247485e819cb"
      },
      "outputs": [],
      "source": [
        "# Step 2: Remove low variance features\n",
        "threshold_var = 0.2  # Define threshold for variance\n",
        "selector = VarianceThreshold(threshold=threshold_var)\n",
        "X_filtered = selector.fit_transform(X)\n",
        "\n",
        "# Get selected feature indices and apply to original feature names\n",
        "selected_feature_indices = selector.get_support(indices=True)\n",
        "selected_features = X.columns[selected_feature_indices]\n",
        "\n",
        "# Update X with filtered features\n",
        "X = pd.DataFrame(X_filtered, columns=selected_features)\n",
        "X"
      ]
    },
    {
      "cell_type": "code",
      "execution_count": null,
      "metadata": {
        "id": "EKjx4MJGMz9g"
      },
      "outputs": [],
      "source": [
        "# Step 3: Split data into training and validation sets\n",
        "X_train, X_val, y_train, y_val = train_test_split(X, y, test_size=0.2, random_state=42)"
      ]
    },
    {
      "cell_type": "code",
      "execution_count": null,
      "metadata": {
        "colab": {
          "base_uri": "https://localhost:8080/"
        },
        "id": "JZ-lutHYgzLs",
        "outputId": "726f2001-a1e1-4015-d583-b16288c432ab"
      },
      "outputs": [],
      "source": [
        "rf_model_filtered_features = RandomForestRegressor(n_estimators=100, random_state=42)  # Random Forest with 100 trees\n",
        "rf_model_filtered_features.fit(X_train, y_train)\n",
        "\n",
        "# Step 5: Evaluate Random Forest model on validation set (using selected features)\n",
        "y_pred_rf_filtered_features = rf_model_filtered_features.predict(X_val)\n",
        "\n",
        "mse_rf_filtered_features = mean_squared_error(y_val, y_pred_rf_filtered_features)\n",
        "r2_rf_filtered_features = r2_score(y_val, y_pred_rf_filtered_features)\n",
        "aic_1 = AIC(y_pred_rf_filtered_features, y_val, X_train)\n",
        "\n",
        "print(\"Random Forest Model Evaluation (using selected features):\")\n",
        "print(f\"MSE: {mse_rf_filtered_features}\")\n",
        "print(f\"R-squared (R2): {r2_rf_filtered_features}\")\n",
        "print(f\"AIC: {aic_1}\")"
      ]
    },
    {
      "cell_type": "code",
      "execution_count": null,
      "metadata": {
        "colab": {
          "base_uri": "https://localhost:8080/",
          "height": 564
        },
        "id": "O6O1Hb-SheHH",
        "outputId": "870f2fb6-e956-4134-90a9-c941a48e0d18"
      },
      "outputs": [],
      "source": [
        "# Plotting predicted vs. actual values\n",
        "plt.figure(figsize=(8, 6))\n",
        "plt.scatter(y_val, y_pred_rf_filtered_features, color='blue', alpha=0.5)  # Scatter plot of actual vs. predicted values\n",
        "plt.plot([min(y_val), max(y_val)], [min(y_val), max(y_val)], color='red', linestyle='--')  # Diagonal line\n",
        "plt.xlabel('Actual pIC50')\n",
        "plt.ylabel('Predicted pIC50')\n",
        "plt.title('Actual vs. Predicted pIC50 (Low Variance Features Removal + Random Forest)')\n",
        "plt.grid(True)\n",
        "\n",
        "plt.savefig('Actual vs. Predicted pIC50 (Low Variance features removal_RF).png')\n",
        "plt.show()"
      ]
    },
    {
      "cell_type": "code",
      "execution_count": null,
      "metadata": {
        "id": "aArnPfzCM1z_"
      },
      "outputs": [],
      "source": [
        "# Step 4: Normalize features\n",
        "scaler = MinMaxScaler()\n",
        "X_train_scaled = scaler.fit_transform(X_train)\n",
        "X_val_scaled = scaler.transform(X_val)"
      ]
    },
    {
      "cell_type": "code",
      "execution_count": null,
      "metadata": {
        "colab": {
          "base_uri": "https://localhost:8080/",
          "height": 117
        },
        "id": "9yoRtbLzM2pR",
        "outputId": "c698d781-f87a-44ef-d6e8-e2624cf91d51"
      },
      "outputs": [],
      "source": [
        "# Step 5: Hyperparameter Tuning with GridSearchCV for Lasso\n",
        "param_grid = {'alpha': [0.001, 0.01, 0.1, 1.0, 10.0]}  # Define alpha values to search over\n",
        "lasso_model = Lasso(max_iter=2000, random_state=42)  # Increase max_iter for more iterations\n",
        "lasso_cv = GridSearchCV(lasso_model, param_grid, cv=5)\n",
        "lasso_cv.fit(X_train_scaled, y_train)"
      ]
    },
    {
      "cell_type": "code",
      "execution_count": null,
      "metadata": {
        "colab": {
          "base_uri": "https://localhost:8080/"
        },
        "id": "h80PI7EaP8GW",
        "outputId": "12cab8bd-4dc4-4939-be41-3d919c2dc9c4"
      },
      "outputs": [],
      "source": [
        "# Print the best alpha parameter found by GridSearchCV\n",
        "print(\"Best alpha:\", lasso_cv.best_params_['alpha'])"
      ]
    },
    {
      "cell_type": "code",
      "execution_count": null,
      "metadata": {
        "id": "1ysVp8OIM5M9"
      },
      "outputs": [],
      "source": [
        "# Step 6: Feature Importance (Coefficients) with Lasso\n",
        "best_lasso_model = lasso_cv.best_estimator_\n",
        "lasso_coefficients = best_lasso_model.coef_"
      ]
    },
    {
      "cell_type": "code",
      "execution_count": null,
      "metadata": {
        "colab": {
          "base_uri": "https://localhost:8080/",
          "height": 585
        },
        "id": "peD_tEEoQOlH",
        "outputId": "aac4d657-683e-4abd-c9f0-2d92a7b77360"
      },
      "outputs": [],
      "source": [
        "# Plotting feature importance (coefficients) vs. input features\n",
        "plt.figure(figsize=(12, 6))\n",
        "plt.bar(range(len(selected_features)), lasso_coefficients, align='center')\n",
        "plt.xticks(range(len(selected_features)), selected_features, rotation=90)\n",
        "plt.xlabel('Input Features')\n",
        "plt.ylabel('Importance Factor (Coefficient)')\n",
        "plt.title('Lasso Feature Importance')\n",
        "\n",
        "plt.show()"
      ]
    },
    {
      "cell_type": "code",
      "execution_count": null,
      "metadata": {
        "colab": {
          "base_uri": "https://localhost:8080/"
        },
        "id": "H3Ff5NBcQSWu",
        "outputId": "536c100a-795d-420b-e7db-3a8cf745f349"
      },
      "outputs": [],
      "source": [
        "# Step 7: Filter Features based on Coefficients\n",
        "threshold_high = 0.0001  # Define threshold for high positive coefficient value (close to 1)\n",
        "threshold_low = 0.0002   # Define threshold for low negative coefficient value (close to 0)\n",
        "\n",
        "# Identify features to keep based on coefficients\n",
        "selected_features_final = [feat for feat, coef in zip(selected_features, lasso_coefficients)\n",
        "                           if abs(coef) >= threshold_high or (coef < 0 and abs(coef) <= threshold_low)]\n",
        "\n",
        "print(\"Selected features based on coefficients:\")\n",
        "print(selected_features_final)\n",
        "print(len(selected_features_final))"
      ]
    },
    {
      "cell_type": "code",
      "execution_count": null,
      "metadata": {
        "colab": {
          "base_uri": "https://localhost:8080/",
          "height": 74
        },
        "id": "pRtQ-SezQTnB",
        "outputId": "fa0c3f6a-e84a-4c87-9e72-2809d087f201"
      },
      "outputs": [],
      "source": [
        "# Step 8: Train Random Forest Regression with Selected Features\n",
        "X_train_final = X_train[selected_features_final]\n",
        "X_val_final = X_val[selected_features_final]\n",
        "\n",
        "rf_model = RandomForestRegressor(n_estimators=100, random_state=42)  # Random Forest with 100 trees\n",
        "rf_model.fit(X_train_final, y_train)"
      ]
    },
    {
      "cell_type": "code",
      "execution_count": null,
      "metadata": {
        "id": "z8YGak0oYW55"
      },
      "outputs": [],
      "source": [
        "def AIC(y_pred,y_real,x):\n",
        "    mseloss=mean_squared_error(y_pred,y_real)\n",
        "    x_len=y_pred.shape[0]\n",
        "    n_features=x.shape[1]\n",
        "\n",
        "    aic=2*n_features-2*np.log(mseloss)\n",
        "\n",
        "    return aic\n",
        "\n",
        "def BIC(y_pred,y_real,x):\n",
        "    mseloss=mean_squared_error(y_pred,y_real)\n",
        "    x_len=y_pred.shape[0]\n",
        "    n_features=x.shape[1]\n",
        "\n",
        "    bic=np.log(x_len)*n_features - 2*np.log(mseloss)\n",
        "\n",
        "    return bic"
      ]
    },
    {
      "cell_type": "code",
      "execution_count": null,
      "metadata": {
        "colab": {
          "base_uri": "https://localhost:8080/"
        },
        "id": "j-j0wvLvM7pw",
        "outputId": "cc97e09b-03b6-402b-e22b-44e3f78f52b4"
      },
      "outputs": [],
      "source": [
        "# Step 9: Evaluate Random Forest model on validation set\n",
        "y_pred_rf = rf_model.predict(X_val_final)\n",
        "\n",
        "mse_rf = mean_squared_error(y_val, y_pred_rf)\n",
        "r2_rf = r2_score(y_val, y_pred_rf)\n",
        "\n",
        "print(f\"Random Forest Model Evaluation:\")\n",
        "print(f\"MSE: {mse_rf}\")\n",
        "print(f\"R-squared (R2): {r2_rf}\")"
      ]
    },
    {
      "cell_type": "code",
      "execution_count": null,
      "metadata": {
        "colab": {
          "base_uri": "https://localhost:8080/"
        },
        "id": "bE9ryfQXYZg2",
        "outputId": "33c32f4a-320c-41e7-e788-ef9daa25ee2e"
      },
      "outputs": [],
      "source": [
        "aic=AIC(y_pred_rf,y_val,X_train_final)\n",
        "print(aic)\n",
        "bic = BIC(y_pred_rf,y_val,X_train_final)\n",
        "print(bic)"
      ]
    },
    {
      "cell_type": "code",
      "execution_count": null,
      "metadata": {
        "colab": {
          "base_uri": "https://localhost:8080/",
          "height": 564
        },
        "id": "r7oCS_CnbxOV",
        "outputId": "a6aa7a13-46e3-48f1-eaef-48bdff1d6aad"
      },
      "outputs": [],
      "source": [
        "# Plotting predicted vs. actual values\n",
        "plt.figure(figsize=(8, 6))\n",
        "plt.scatter(y_val, y_pred_rf, color='blue', alpha=0.5)  # Scatter plot of actual vs. predicted values\n",
        "plt.plot([min(y_val), max(y_val)], [min(y_val), max(y_val)], color='red', linestyle='--')  # Diagonal line\n",
        "plt.xlabel('Actual pIC50')\n",
        "plt.ylabel('Predicted pIC50')\n",
        "plt.title('Actual vs. Predicted pIC50 (Lasso + Random Forest)')\n",
        "plt.grid(True)\n",
        "\n",
        "plt.savefig('Actual vs. Predicted pIC50 (Lasso_RF).png')\n",
        "plt.show()"
      ]
    }
  ],
  "metadata": {
    "colab": {
      "provenance": []
    },
    "kernelspec": {
      "display_name": "Python 3",
      "name": "python3"
    },
    "language_info": {
      "name": "python"
    }
  },
  "nbformat": 4,
  "nbformat_minor": 0
}
