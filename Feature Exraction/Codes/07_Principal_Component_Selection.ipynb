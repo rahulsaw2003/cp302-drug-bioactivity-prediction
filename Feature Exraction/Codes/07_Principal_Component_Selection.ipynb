{
  "cells": [
    {
      "cell_type": "code",
      "execution_count": null,
      "metadata": {
        "id": "hqeDL1d4v4oh"
      },
      "outputs": [],
      "source": [
        "import pandas as pd\n",
        "import numpy as np\n",
        "import matplotlib.pyplot as plt\n",
        "from sklearn.model_selection import train_test_split, GridSearchCV\n",
        "from sklearn.linear_model import Lasso\n",
        "from sklearn.ensemble import RandomForestRegressor\n",
        "from sklearn.preprocessing import MinMaxScaler\n",
        "from sklearn.feature_selection import VarianceThreshold\n",
        "from sklearn.decomposition import PCA\n",
        "from sklearn.metrics import mean_squared_error, r2_score"
      ]
    },
    {
      "cell_type": "code",
      "execution_count": null,
      "metadata": {
        "id": "wJFlld3OwBVF"
      },
      "outputs": [],
      "source": [
        "# Step 1: Read data from CSV and rename columns\n",
        "data = pd.read_csv('/content/dataset.csv')\n",
        "\n",
        "# Rename PubchemFP columns to x1, x2, x3, ..., x881\n",
        "new_column_names = ['x{}'.format(i) for i in range(1, 882)]\n",
        "data.columns = new_column_names + ['pIC50']  # Assuming the last column is pIC50\n",
        "\n",
        "# Prepare data for modeling\n",
        "X = data[new_column_names]  # Features\n",
        "y = data['pIC50']  # Target variable"
      ]
    },
    {
      "cell_type": "code",
      "execution_count": null,
      "metadata": {
        "id": "dv4D11I2wIay"
      },
      "outputs": [],
      "source": [
        "# Step 2: Remove low variance features\n",
        "threshold_var = 0.2  # Define threshold for variance\n",
        "selector = VarianceThreshold(threshold=threshold_var)\n",
        "X_filtered = selector.fit_transform(X)\n",
        "\n",
        "# Get selected feature indices and apply to original feature names\n",
        "selected_feature_indices = selector.get_support(indices=True)\n",
        "selected_features = X.columns[selected_feature_indices]\n",
        "\n",
        "# Update X with filtered features\n",
        "X = pd.DataFrame(X_filtered, columns=selected_features)"
      ]
    },
    {
      "cell_type": "code",
      "execution_count": null,
      "metadata": {
        "id": "RyAiEzrywKvh"
      },
      "outputs": [],
      "source": [
        "# Step 3: Split data into training and validation sets\n",
        "X_train, X_val, y_train, y_val = train_test_split(X, y, test_size=0.2, random_state=42)\n",
        "\n",
        "# Step 4: Normalize features\n",
        "scaler = MinMaxScaler()\n",
        "X_train_scaled = scaler.fit_transform(X_train)\n",
        "X_val_scaled = scaler.transform(X_val)"
      ]
    },
    {
      "cell_type": "code",
      "execution_count": null,
      "metadata": {
        "id": "J0ZnsHBswNAQ"
      },
      "outputs": [],
      "source": [
        "# Step 5: Apply Principal Component Analysis (PCA) for feature extraction\n",
        "n_components = 131  # Define the number of principal components\n",
        "pca = PCA(n_components=n_components)\n",
        "X_train_pca = pca.fit_transform(X_train_scaled)\n",
        "X_val_pca = pca.transform(X_val_scaled)"
      ]
    },
    {
      "cell_type": "code",
      "execution_count": null,
      "metadata": {
        "colab": {
          "base_uri": "https://localhost:8080/",
          "height": 564
        },
        "id": "6fcegzl_wcct",
        "outputId": "5daceb51-cc7d-4368-f396-956cab34a2a2"
      },
      "outputs": [],
      "source": [
        "# Optional: Plot explained variance ratio\n",
        "explained_var_ratio = pca.explained_variance_ratio_\n",
        "plt.figure(figsize=(8, 6))\n",
        "plt.plot(np.cumsum(explained_var_ratio))\n",
        "plt.xlabel('Number of Principal Components')\n",
        "plt.ylabel('Cumulative Explained Variance Ratio')\n",
        "plt.title('Cumulative Explained Variance Ratio vs. Number of Principal Components')\n",
        "plt.grid(True)\n",
        "plt.savefig('variance vs num_pca.png')\n",
        "plt.show()"
      ]
    }
  ],
  "metadata": {
    "colab": {
      "provenance": []
    },
    "kernelspec": {
      "display_name": "Python 3",
      "name": "python3"
    },
    "language_info": {
      "name": "python"
    }
  },
  "nbformat": 4,
  "nbformat_minor": 0
}
