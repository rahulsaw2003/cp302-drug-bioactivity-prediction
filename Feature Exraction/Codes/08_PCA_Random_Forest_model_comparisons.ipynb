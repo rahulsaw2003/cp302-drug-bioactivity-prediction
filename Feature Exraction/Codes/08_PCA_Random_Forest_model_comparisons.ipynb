{
  "cells": [
    {
      "cell_type": "code",
      "execution_count": 1,
      "metadata": {
        "id": "pcKJ_T5YULyK"
      },
      "outputs": [],
      "source": [
        "import pandas as pd\n",
        "import numpy as np\n",
        "import matplotlib.pyplot as plt\n",
        "from sklearn.model_selection import train_test_split, GridSearchCV\n",
        "from sklearn.linear_model import Lasso\n",
        "from sklearn.ensemble import RandomForestRegressor\n",
        "from sklearn.preprocessing import MinMaxScaler\n",
        "from sklearn.feature_selection import VarianceThreshold\n",
        "from sklearn.decomposition import PCA\n",
        "from sklearn.metrics import mean_squared_error, r2_score"
      ]
    },
    {
      "cell_type": "code",
      "execution_count": 2,
      "metadata": {
        "id": "csqLFz_ZUOGu"
      },
      "outputs": [],
      "source": [
        "# Step 1: Read data from CSV and rename columns\n",
        "data = pd.read_csv('/content/dataset.csv')\n",
        "\n",
        "# Rename PubchemFP columns to x1, x2, x3, ..., x881\n",
        "new_column_names = ['x{}'.format(i) for i in range(1, 882)]\n",
        "data.columns = new_column_names + ['pIC50']  # Assuming the last column is pIC50\n",
        "\n",
        "# Prepare data for modeling\n",
        "X = data[new_column_names]  # Features\n",
        "y = data['pIC50']  # Target variable"
      ]
    },
    {
      "cell_type": "code",
      "execution_count": 3,
      "metadata": {
        "id": "ZqoEaP08ki_V"
      },
      "outputs": [],
      "source": [
        "def AIC(y_pred,y_real,x):\n",
        "    mseloss=mean_squared_error(y_pred,y_real)\n",
        "    x_len=y_pred.shape[0]\n",
        "    n_features=x.shape[1]\n",
        "\n",
        "    aic=2*n_features-2*np.log(mseloss)\n",
        "\n",
        "    return aic\n",
        "\n",
        "def BIC(y_pred,y_real,x):\n",
        "    mseloss=mean_squared_error(y_pred,y_real)\n",
        "    x_len=y_pred.shape[0]\n",
        "    n_features=x.shape[1]\n",
        "\n",
        "    bic=np.log(x_len)*n_features - 2*np.log(mseloss)\n",
        "\n",
        "    return bic"
      ]
    },
    {
      "cell_type": "code",
      "execution_count": 4,
      "metadata": {
        "id": "shZXCl4LUTOc"
      },
      "outputs": [],
      "source": [
        "# Step 2: Remove low variance features\n",
        "threshold_var = 0.2  # Define threshold for variance\n",
        "selector = VarianceThreshold(threshold=threshold_var)\n",
        "X_filtered = selector.fit_transform(X)\n",
        "\n",
        "# Get selected feature indices and apply to original feature names\n",
        "selected_feature_indices = selector.get_support(indices=True)\n",
        "selected_features = X.columns[selected_feature_indices]\n",
        "\n",
        "# Update X with filtered features\n",
        "X = pd.DataFrame(X_filtered, columns=selected_features)"
      ]
    },
    {
      "cell_type": "code",
      "execution_count": 5,
      "metadata": {
        "id": "xoZTosFrUWCI"
      },
      "outputs": [],
      "source": [
        "# Step 3: Split data into training and validation sets\n",
        "X_train, X_val, y_train, y_val = train_test_split(X, y, test_size=0.2, random_state=42)\n",
        "\n",
        "# Step 4: Normalize features\n",
        "scaler = MinMaxScaler()\n",
        "X_train_scaled = scaler.fit_transform(X_train)\n",
        "X_val_scaled = scaler.transform(X_val)"
      ]
    },
    {
      "cell_type": "code",
      "execution_count": 6,
      "metadata": {
        "id": "ZOHQj5wEUYNp"
      },
      "outputs": [],
      "source": [
        "# Step 5: Apply Principal Component Analysis (PCA) for feature extraction\n",
        "n_components = 50  # Define the number of principal components\n",
        "pca = PCA(n_components=n_components)\n",
        "X_train_pca = pca.fit_transform(X_train_scaled)\n",
        "X_val_pca = pca.transform(X_val_scaled)"
      ]
    },
    {
      "cell_type": "code",
      "execution_count": 7,
      "metadata": {
        "colab": {
          "base_uri": "https://localhost:8080/",
          "height": 74
        },
        "id": "ki0FpOQMWlnW",
        "outputId": "1b2f301d-5417-400a-e2ac-ec852030ce8b"
      },
      "outputs": [
        {
          "data": {
            "text/html": [
              "<style>#sk-container-id-1 {color: black;background-color: white;}#sk-container-id-1 pre{padding: 0;}#sk-container-id-1 div.sk-toggleable {background-color: white;}#sk-container-id-1 label.sk-toggleable__label {cursor: pointer;display: block;width: 100%;margin-bottom: 0;padding: 0.3em;box-sizing: border-box;text-align: center;}#sk-container-id-1 label.sk-toggleable__label-arrow:before {content: \"▸\";float: left;margin-right: 0.25em;color: #696969;}#sk-container-id-1 label.sk-toggleable__label-arrow:hover:before {color: black;}#sk-container-id-1 div.sk-estimator:hover label.sk-toggleable__label-arrow:before {color: black;}#sk-container-id-1 div.sk-toggleable__content {max-height: 0;max-width: 0;overflow: hidden;text-align: left;background-color: #f0f8ff;}#sk-container-id-1 div.sk-toggleable__content pre {margin: 0.2em;color: black;border-radius: 0.25em;background-color: #f0f8ff;}#sk-container-id-1 input.sk-toggleable__control:checked~div.sk-toggleable__content {max-height: 200px;max-width: 100%;overflow: auto;}#sk-container-id-1 input.sk-toggleable__control:checked~label.sk-toggleable__label-arrow:before {content: \"▾\";}#sk-container-id-1 div.sk-estimator input.sk-toggleable__control:checked~label.sk-toggleable__label {background-color: #d4ebff;}#sk-container-id-1 div.sk-label input.sk-toggleable__control:checked~label.sk-toggleable__label {background-color: #d4ebff;}#sk-container-id-1 input.sk-hidden--visually {border: 0;clip: rect(1px 1px 1px 1px);clip: rect(1px, 1px, 1px, 1px);height: 1px;margin: -1px;overflow: hidden;padding: 0;position: absolute;width: 1px;}#sk-container-id-1 div.sk-estimator {font-family: monospace;background-color: #f0f8ff;border: 1px dotted black;border-radius: 0.25em;box-sizing: border-box;margin-bottom: 0.5em;}#sk-container-id-1 div.sk-estimator:hover {background-color: #d4ebff;}#sk-container-id-1 div.sk-parallel-item::after {content: \"\";width: 100%;border-bottom: 1px solid gray;flex-grow: 1;}#sk-container-id-1 div.sk-label:hover label.sk-toggleable__label {background-color: #d4ebff;}#sk-container-id-1 div.sk-serial::before {content: \"\";position: absolute;border-left: 1px solid gray;box-sizing: border-box;top: 0;bottom: 0;left: 50%;z-index: 0;}#sk-container-id-1 div.sk-serial {display: flex;flex-direction: column;align-items: center;background-color: white;padding-right: 0.2em;padding-left: 0.2em;position: relative;}#sk-container-id-1 div.sk-item {position: relative;z-index: 1;}#sk-container-id-1 div.sk-parallel {display: flex;align-items: stretch;justify-content: center;background-color: white;position: relative;}#sk-container-id-1 div.sk-item::before, #sk-container-id-1 div.sk-parallel-item::before {content: \"\";position: absolute;border-left: 1px solid gray;box-sizing: border-box;top: 0;bottom: 0;left: 50%;z-index: -1;}#sk-container-id-1 div.sk-parallel-item {display: flex;flex-direction: column;z-index: 1;position: relative;background-color: white;}#sk-container-id-1 div.sk-parallel-item:first-child::after {align-self: flex-end;width: 50%;}#sk-container-id-1 div.sk-parallel-item:last-child::after {align-self: flex-start;width: 50%;}#sk-container-id-1 div.sk-parallel-item:only-child::after {width: 0;}#sk-container-id-1 div.sk-dashed-wrapped {border: 1px dashed gray;margin: 0 0.4em 0.5em 0.4em;box-sizing: border-box;padding-bottom: 0.4em;background-color: white;}#sk-container-id-1 div.sk-label label {font-family: monospace;font-weight: bold;display: inline-block;line-height: 1.2em;}#sk-container-id-1 div.sk-label-container {text-align: center;}#sk-container-id-1 div.sk-container {/* jupyter's `normalize.less` sets `[hidden] { display: none; }` but bootstrap.min.css set `[hidden] { display: none !important; }` so we also need the `!important` here to be able to override the default hidden behavior on the sphinx rendered scikit-learn.org. See: https://github.com/scikit-learn/scikit-learn/issues/21755 */display: inline-block !important;position: relative;}#sk-container-id-1 div.sk-text-repr-fallback {display: none;}</style><div id=\"sk-container-id-1\" class=\"sk-top-container\"><div class=\"sk-text-repr-fallback\"><pre>RandomForestRegressor(n_estimators=200, random_state=42)</pre><b>In a Jupyter environment, please rerun this cell to show the HTML representation or trust the notebook. <br />On GitHub, the HTML representation is unable to render, please try loading this page with nbviewer.org.</b></div><div class=\"sk-container\" hidden><div class=\"sk-item\"><div class=\"sk-estimator sk-toggleable\"><input class=\"sk-toggleable__control sk-hidden--visually\" id=\"sk-estimator-id-1\" type=\"checkbox\" checked><label for=\"sk-estimator-id-1\" class=\"sk-toggleable__label sk-toggleable__label-arrow\">RandomForestRegressor</label><div class=\"sk-toggleable__content\"><pre>RandomForestRegressor(n_estimators=200, random_state=42)</pre></div></div></div></div></div>"
            ],
            "text/plain": [
              "RandomForestRegressor(n_estimators=200, random_state=42)"
            ]
          },
          "execution_count": 7,
          "metadata": {},
          "output_type": "execute_result"
        }
      ],
      "source": [
        "# Step 5: Train Random Forest Regression with All Features\n",
        "rf_model_all_features = RandomForestRegressor(n_estimators=200, random_state=42)  # Random Forest with 100 trees\n",
        "rf_model_all_features.fit(X_train_scaled, y_train)  # Train with all features"
      ]
    },
    {
      "cell_type": "code",
      "execution_count": 8,
      "metadata": {
        "colab": {
          "base_uri": "https://localhost:8080/",
          "height": 74
        },
        "id": "qcZp-WsqUa11",
        "outputId": "58daa30d-1487-43a0-b661-f02b7fe2090d"
      },
      "outputs": [
        {
          "data": {
            "text/html": [
              "<style>#sk-container-id-2 {color: black;background-color: white;}#sk-container-id-2 pre{padding: 0;}#sk-container-id-2 div.sk-toggleable {background-color: white;}#sk-container-id-2 label.sk-toggleable__label {cursor: pointer;display: block;width: 100%;margin-bottom: 0;padding: 0.3em;box-sizing: border-box;text-align: center;}#sk-container-id-2 label.sk-toggleable__label-arrow:before {content: \"▸\";float: left;margin-right: 0.25em;color: #696969;}#sk-container-id-2 label.sk-toggleable__label-arrow:hover:before {color: black;}#sk-container-id-2 div.sk-estimator:hover label.sk-toggleable__label-arrow:before {color: black;}#sk-container-id-2 div.sk-toggleable__content {max-height: 0;max-width: 0;overflow: hidden;text-align: left;background-color: #f0f8ff;}#sk-container-id-2 div.sk-toggleable__content pre {margin: 0.2em;color: black;border-radius: 0.25em;background-color: #f0f8ff;}#sk-container-id-2 input.sk-toggleable__control:checked~div.sk-toggleable__content {max-height: 200px;max-width: 100%;overflow: auto;}#sk-container-id-2 input.sk-toggleable__control:checked~label.sk-toggleable__label-arrow:before {content: \"▾\";}#sk-container-id-2 div.sk-estimator input.sk-toggleable__control:checked~label.sk-toggleable__label {background-color: #d4ebff;}#sk-container-id-2 div.sk-label input.sk-toggleable__control:checked~label.sk-toggleable__label {background-color: #d4ebff;}#sk-container-id-2 input.sk-hidden--visually {border: 0;clip: rect(1px 1px 1px 1px);clip: rect(1px, 1px, 1px, 1px);height: 1px;margin: -1px;overflow: hidden;padding: 0;position: absolute;width: 1px;}#sk-container-id-2 div.sk-estimator {font-family: monospace;background-color: #f0f8ff;border: 1px dotted black;border-radius: 0.25em;box-sizing: border-box;margin-bottom: 0.5em;}#sk-container-id-2 div.sk-estimator:hover {background-color: #d4ebff;}#sk-container-id-2 div.sk-parallel-item::after {content: \"\";width: 100%;border-bottom: 1px solid gray;flex-grow: 1;}#sk-container-id-2 div.sk-label:hover label.sk-toggleable__label {background-color: #d4ebff;}#sk-container-id-2 div.sk-serial::before {content: \"\";position: absolute;border-left: 1px solid gray;box-sizing: border-box;top: 0;bottom: 0;left: 50%;z-index: 0;}#sk-container-id-2 div.sk-serial {display: flex;flex-direction: column;align-items: center;background-color: white;padding-right: 0.2em;padding-left: 0.2em;position: relative;}#sk-container-id-2 div.sk-item {position: relative;z-index: 1;}#sk-container-id-2 div.sk-parallel {display: flex;align-items: stretch;justify-content: center;background-color: white;position: relative;}#sk-container-id-2 div.sk-item::before, #sk-container-id-2 div.sk-parallel-item::before {content: \"\";position: absolute;border-left: 1px solid gray;box-sizing: border-box;top: 0;bottom: 0;left: 50%;z-index: -1;}#sk-container-id-2 div.sk-parallel-item {display: flex;flex-direction: column;z-index: 1;position: relative;background-color: white;}#sk-container-id-2 div.sk-parallel-item:first-child::after {align-self: flex-end;width: 50%;}#sk-container-id-2 div.sk-parallel-item:last-child::after {align-self: flex-start;width: 50%;}#sk-container-id-2 div.sk-parallel-item:only-child::after {width: 0;}#sk-container-id-2 div.sk-dashed-wrapped {border: 1px dashed gray;margin: 0 0.4em 0.5em 0.4em;box-sizing: border-box;padding-bottom: 0.4em;background-color: white;}#sk-container-id-2 div.sk-label label {font-family: monospace;font-weight: bold;display: inline-block;line-height: 1.2em;}#sk-container-id-2 div.sk-label-container {text-align: center;}#sk-container-id-2 div.sk-container {/* jupyter's `normalize.less` sets `[hidden] { display: none; }` but bootstrap.min.css set `[hidden] { display: none !important; }` so we also need the `!important` here to be able to override the default hidden behavior on the sphinx rendered scikit-learn.org. See: https://github.com/scikit-learn/scikit-learn/issues/21755 */display: inline-block !important;position: relative;}#sk-container-id-2 div.sk-text-repr-fallback {display: none;}</style><div id=\"sk-container-id-2\" class=\"sk-top-container\"><div class=\"sk-text-repr-fallback\"><pre>RandomForestRegressor(n_estimators=200, random_state=42)</pre><b>In a Jupyter environment, please rerun this cell to show the HTML representation or trust the notebook. <br />On GitHub, the HTML representation is unable to render, please try loading this page with nbviewer.org.</b></div><div class=\"sk-container\" hidden><div class=\"sk-item\"><div class=\"sk-estimator sk-toggleable\"><input class=\"sk-toggleable__control sk-hidden--visually\" id=\"sk-estimator-id-2\" type=\"checkbox\" checked><label for=\"sk-estimator-id-2\" class=\"sk-toggleable__label sk-toggleable__label-arrow\">RandomForestRegressor</label><div class=\"sk-toggleable__content\"><pre>RandomForestRegressor(n_estimators=200, random_state=42)</pre></div></div></div></div></div>"
            ],
            "text/plain": [
              "RandomForestRegressor(n_estimators=200, random_state=42)"
            ]
          },
          "execution_count": 8,
          "metadata": {},
          "output_type": "execute_result"
        }
      ],
      "source": [
        "# Step 6: Train Random Forest Regression with PCA-transformed Features\n",
        "rf_model_pca = RandomForestRegressor(n_estimators=200, random_state=42)  # Random Forest with 100 trees\n",
        "rf_model_pca.fit(X_train_pca, y_train)  # Train with PCA-transformed features"
      ]
    },
    {
      "cell_type": "code",
      "execution_count": 9,
      "metadata": {
        "id": "yy8kKaU4Ud4C"
      },
      "outputs": [],
      "source": [
        "# Step 7: Evaluate Models on Validation Set\n",
        "y_pred_all_features = rf_model_all_features.predict(X_val_scaled)\n",
        "y_pred_pca = rf_model_pca.predict(X_val_pca)\n",
        "\n",
        "mse_all_features = mean_squared_error(y_val, y_pred_all_features)\n",
        "r2_all_features = r2_score(y_val, y_pred_all_features)\n",
        "aic_all_features = AIC(y_pred_all_features, y_val, X_train_scaled)\n",
        "\n",
        "mse_pca = mean_squared_error(y_val, y_pred_pca)\n",
        "r2_pca = r2_score(y_val, y_pred_pca)\n",
        "aic_pca = AIC(y_pred_pca, y_val, X_train_pca)"
      ]
    },
    {
      "cell_type": "code",
      "execution_count": 10,
      "metadata": {
        "colab": {
          "base_uri": "https://localhost:8080/"
        },
        "id": "dXr7JT2SYrQt",
        "outputId": "5299f0bc-f7a5-48ee-a247-61e05ee50cf6"
      },
      "outputs": [
        {
          "name": "stdout",
          "output_type": "stream",
          "text": [
            "Number of PCA Components: 50\n",
            "Metrics for PCA Model: \n",
            "MSE - PCA 50 Components (RF): 0.825266968068234\n",
            "R2 - PCA 50 Components (RF): 0.5691634920220452\n",
            "AIC - PCA 50 Components (RF): 100.38409669467084\n",
            "Metrics for All Features model:\n",
            "MSE - All Features (RF): 0.8132186790208839\n",
            "R2 - All Features (RF): 0.5754533872694219\n",
            "AIC - All Features (RF): 262.4135104554339\n"
          ]
        }
      ],
      "source": [
        "# Print PCA components and MSE values\n",
        "print(f\"Number of PCA Components: {n_components}\")\n",
        "print('Metrics for PCA Model: ')\n",
        "\n",
        "print(f\"MSE - PCA {n_components} Components (RF): {mse_pca}\")\n",
        "print(f\"R2 - PCA {n_components} Components (RF): {r2_pca}\")\n",
        "print(f\"AIC - PCA {n_components} Components (RF): {aic_pca}\")\n",
        "\n",
        "\n",
        "print('Metrics for All Features model:')\n",
        "print(f\"MSE - All Features (RF): {mse_all_features}\")\n",
        "print(f\"R2 - All Features (RF): {r2_all_features}\")\n",
        "print(f\"AIC - All Features (RF): {aic_all_features}\")\n"
      ]
    },
    {
      "cell_type": "code",
      "execution_count": null,
      "metadata": {
        "colab": {
          "base_uri": "https://localhost:8080/",
          "height": 957
        },
        "id": "CvMbSoKMU86A",
        "outputId": "01858225-c456-4443-ae9d-2306f8bb18ad"
      },
      "outputs": [],
      "source": [
        "# Step 8: Plot Comparison of Model Performances\n",
        "labels = ['All Features (RF)', f'PCA {n_components} Components (RF)']\n",
        "mse_scores = [mse_all_features, mse_pca]\n",
        "r2_scores = [r2_all_features, r2_pca]\n",
        "\n",
        "# Plot MSE comparison\n",
        "plt.figure(figsize=(8, 5))\n",
        "plt.bar(labels, mse_scores, color=['blue', 'green'])\n",
        "plt.xlabel('Model')\n",
        "plt.ylabel('Mean Squared Error (MSE)')\n",
        "plt.title('Comparison of Mean Squared Error (MSE)')\n",
        "plt.show()\n",
        "\n",
        "# Plot R2 comparison\n",
        "plt.figure(figsize=(8, 5))\n",
        "plt.bar(labels, r2_scores, color=['blue', 'green'])\n",
        "plt.xlabel('Model')\n",
        "plt.ylabel('R-squared (R2)')\n",
        "plt.title('Comparison of R-squared (R2)')\n",
        "plt.show()"
      ]
    },
    {
      "cell_type": "code",
      "execution_count": null,
      "metadata": {
        "colab": {
          "base_uri": "https://localhost:8080/",
          "height": 569
        },
        "id": "5ppi5xmobKrj",
        "outputId": "fd903bc7-3ae1-42e7-ae1b-8f5e385482ac"
      },
      "outputs": [],
      "source": [
        "# Step 8: Plot Predicted vs Real Values for both models\n",
        "plt.figure(figsize=(12, 6))\n",
        "\n",
        "# Plot for All Features (RF)\n",
        "plt.subplot(1, 2, 1)\n",
        "plt.scatter(y_val, y_pred_all_features, color='blue', alpha=0.5)\n",
        "plt.plot([min(y_val), max(y_val)], [min(y_val), max(y_val)], color='red', linestyle='--')\n",
        "plt.title('All Features (RF): Predicted vs Real Values')\n",
        "plt.xlabel('Actual pIC50')\n",
        "plt.ylabel('Predicted pIC50')\n",
        "\n",
        "# Plot for PCA Components (RF)\n",
        "plt.subplot(1, 2, 2)\n",
        "plt.scatter(y_val, y_pred_pca, color='green', alpha=0.5)\n",
        "plt.plot([min(y_val), max(y_val)], [min(y_val), max(y_val)], color='red', linestyle='--')\n",
        "plt.title(f'PCA {n_components} Components (RF): Predicted vs Real Values')\n",
        "plt.xlabel('Actual pIC50')\n",
        "plt.ylabel('Predicted pIC50')\n",
        "\n",
        "plt.tight_layout()\n",
        "plt.show()"
      ]
    },
    {
      "cell_type": "code",
      "execution_count": null,
      "metadata": {
        "colab": {
          "base_uri": "https://localhost:8080/",
          "height": 1000
        },
        "id": "60T9DDEd4B_T",
        "outputId": "22d6acd9-c562-4f4a-d299-d24952ff9254"
      },
      "outputs": [],
      "source": [
        "import matplotlib.pyplot as plt\n",
        "import numpy as np\n",
        "from sklearn.model_selection import train_test_split\n",
        "from sklearn.linear_model import LinearRegression, Ridge, Lasso\n",
        "from sklearn.ensemble import RandomForestRegressor, GradientBoostingRegressor\n",
        "from sklearn.neighbors import KNeighborsRegressor\n",
        "from sklearn.tree import DecisionTreeRegressor\n",
        "from sklearn.svm import SVR\n",
        "from sklearn.metrics import mean_squared_error, r2_score\n",
        "\n",
        "\n",
        "X_train = X_train_pca\n",
        "Y_train = y_train\n",
        "X_test = X_val_pca\n",
        "Y_test = y_val\n",
        "\n",
        "# Define a list of models to evaluate\n",
        "models = [\n",
        "    (\"Linear Regression\", LinearRegression()),\n",
        "    (\"Ridge Regression\", Ridge(alpha=1.0)),\n",
        "    (\"Lasso Regression\", Lasso(alpha=1.0)),\n",
        "    (\"Random Forest\", RandomForestRegressor(n_estimators=100, random_state=42)),\n",
        "    (\"Gradient Boosting\", GradientBoostingRegressor(n_estimators=100, random_state=42)),\n",
        "    (\"K-Nearest Neighbors\", KNeighborsRegressor(n_neighbors=5)),\n",
        "    (\"Decision Tree\", DecisionTreeRegressor(random_state=42)),\n",
        "    (\"Support Vector Regression\", SVR(kernel='rbf'))\n",
        "]\n",
        "\n",
        "# Iterate over each model\n",
        "for name, model in models:\n",
        "    # Fit the model\n",
        "    model.fit(X_train, Y_train)\n",
        "\n",
        "    # Make predictions\n",
        "    y_pred = model.predict(X_test)\n",
        "\n",
        "    # Calculate evaluation metrics\n",
        "    mse = mean_squared_error(Y_test, y_pred)\n",
        "    r2 = r2_score(Y_test, y_pred)\n",
        "    aic = AIC(y_pred, Y_test, X_train)\n",
        "\n",
        "    # Plot predicted vs true values\n",
        "    plt.figure(figsize=(7, 5))\n",
        "    plt.scatter(Y_test, y_pred, color='blue', alpha=0.5)\n",
        "    plt.plot([min(Y_test), max(Y_test)], [min(Y_test), max(Y_test)], '--', color='red', linewidth=2)\n",
        "    plt.title(f\"{name} - Predicted vs True Values\")\n",
        "    plt.xlabel(\"True Values\")\n",
        "    plt.ylabel(\"Predicted Values\")\n",
        "    plt.grid(True)\n",
        "    plt.tight_layout()\n",
        "\n",
        "    # Display evaluation metrics\n",
        "    plt.text(0.95, 0.05, f\"MSE: {mse:.3f}\\nR2: {r2:.3f}\\nAIC: {aic:.3f}\", ha='right', va='bottom', transform=plt.gca().transAxes, fontsize=10, bbox=dict(boxstyle='round', facecolor='white', alpha=0.8))\n",
        "\n",
        "    # Save or show plot\n",
        "    plt.savefig(f\"{name}_test_data_predicted_vs_true.png\")\n",
        "    plt.show()\n",
        "\n",
        "    # Display results\n",
        "    print(f\"Model: {name}\")\n",
        "    print(f\"Mean Squared Error: {mse:.4f}\")\n",
        "    print(f\"R2 Score: {r2:.4f}\")\n",
        "    print(f\"AIC Value: {aic:.4f}\")\n",
        "    print(\"--------------------\")\n"
      ]
    }
  ],
  "metadata": {
    "colab": {
      "provenance": []
    },
    "kernelspec": {
      "display_name": "Python 3",
      "name": "python3"
    },
    "language_info": {
      "name": "python"
    }
  },
  "nbformat": 4,
  "nbformat_minor": 0
}
