{
  "cells": [
    {
      "cell_type": "markdown",
      "metadata": {
        "id": "jw7MqTMphSwR"
      },
      "source": [
        "## **1. Import libraries**"
      ]
    },
    {
      "cell_type": "code",
      "execution_count": null,
      "metadata": {
        "id": "D3rFTNAIhSwS"
      },
      "outputs": [],
      "source": [
        "import pandas as pd\n",
        "import numpy as np\n",
        "import matplotlib.pyplot as plt\n",
        "from sklearn.model_selection import train_test_split\n",
        "from sklearn.ensemble import RandomForestRegressor\n",
        "from sklearn.metrics import mean_squared_error, r2_score"
      ]
    },
    {
      "cell_type": "markdown",
      "metadata": {
        "id": "0GvT3PArhSwX"
      },
      "source": [
        "## **2. Load the data set**"
      ]
    },
    {
      "cell_type": "code",
      "execution_count": null,
      "metadata": {
        "id": "cSgppzqPiR0G"
      },
      "outputs": [],
      "source": [
        "df = pd.read_csv('/content/03_PGES_bioactivity_data_3class_pIC50_pubchem_fp.csv')"
      ]
    },
    {
      "cell_type": "code",
      "execution_count": null,
      "metadata": {
        "colab": {
          "base_uri": "https://localhost:8080/",
          "height": 443
        },
        "id": "06BIfy-JdFhq",
        "outputId": "ba5c8dfc-512a-4c53-97ce-03af40438b80"
      },
      "outputs": [],
      "source": [
        "df"
      ]
    },
    {
      "cell_type": "markdown",
      "metadata": {
        "id": "iCeQQn0uhSwb"
      },
      "source": [
        "### **3.1. Input features**"
      ]
    },
    {
      "cell_type": "code",
      "execution_count": null,
      "metadata": {
        "colab": {
          "base_uri": "https://localhost:8080/"
        },
        "id": "li32nAPohSwc",
        "outputId": "ef3c55d3-e6f9-4cd2-f2a4-7c28d76266f4",
        "scrolled": true
      },
      "outputs": [],
      "source": [
        "X = df.drop('pIC50', axis=1)\n",
        "X.shape"
      ]
    },
    {
      "cell_type": "markdown",
      "metadata": {
        "id": "sGQjCQtfhSwg"
      },
      "source": [
        "### **3.2. Output features**"
      ]
    },
    {
      "cell_type": "code",
      "execution_count": null,
      "metadata": {
        "colab": {
          "base_uri": "https://localhost:8080/"
        },
        "id": "OWylAtAVhSwh",
        "outputId": "6a67b6a4-af1c-4846-bd92-5f85977aefdd"
      },
      "outputs": [],
      "source": [
        "Y = df.pIC50\n",
        "Y.describe()"
      ]
    },
    {
      "cell_type": "markdown",
      "metadata": {
        "id": "AjhOlkOVhSxR"
      },
      "source": [
        "## **4. Data split (80/20 ratio)**"
      ]
    },
    {
      "cell_type": "code",
      "execution_count": null,
      "metadata": {
        "id": "M1Bmg1HWhSxR"
      },
      "outputs": [],
      "source": [
        "X_train, X_test, Y_train, Y_test = train_test_split(X, Y, test_size=0.2, random_state=42)"
      ]
    },
    {
      "cell_type": "code",
      "execution_count": null,
      "metadata": {
        "colab": {
          "base_uri": "https://localhost:8080/"
        },
        "id": "uz1o3c1LhSxU",
        "outputId": "9b376f6f-1614-4cfb-824e-3a38a719d3d9"
      },
      "outputs": [],
      "source": [
        "X_train.shape, Y_train.shape"
      ]
    },
    {
      "cell_type": "code",
      "execution_count": null,
      "metadata": {
        "colab": {
          "base_uri": "https://localhost:8080/"
        },
        "id": "4tnwDASChSxW",
        "outputId": "4dff348f-1c2c-4244-b52c-45ee552d5bfe"
      },
      "outputs": [],
      "source": [
        "X_test.shape, Y_test.shape"
      ]
    },
    {
      "cell_type": "code",
      "execution_count": null,
      "metadata": {
        "id": "YLPfCMDly25P"
      },
      "outputs": [],
      "source": [
        "def AIC(y_pred,y_real,x):\n",
        "    mseloss=mean_squared_error(y_pred,y_real)\n",
        "    x_len=y_pred.shape[0]\n",
        "    n_features=x.shape[1]\n",
        "\n",
        "    aic=2*n_features-2*np.log(mseloss)\n",
        "\n",
        "    return aic\n",
        "\n",
        "def BIC(y_pred,y_real,x):\n",
        "    mseloss=mean_squared_error(y_pred,y_real)\n",
        "    x_len=y_pred.shape[0]\n",
        "    n_features=x.shape[1]\n",
        "\n",
        "    bic=np.log(x_len)*n_features - 2*np.log(mseloss)\n",
        "\n",
        "    return bic"
      ]
    },
    {
      "cell_type": "markdown",
      "metadata": {
        "id": "PYsE-tIAhSw3"
      },
      "source": [
        "## **5. Building a Regression Model using Random Forest**"
      ]
    },
    {
      "cell_type": "code",
      "execution_count": null,
      "metadata": {
        "colab": {
          "base_uri": "https://localhost:8080/"
        },
        "id": "YHM3DCD5wuNe",
        "outputId": "506386cc-acd7-4a1b-aa78-65f195b2b89e"
      },
      "outputs": [],
      "source": [
        "\n",
        "\n",
        "# Set random seed for reproducibility\n",
        "np.random.seed(100)\n",
        "\n",
        "# Instantiate and fit RandomForestRegressor model\n",
        "model = RandomForestRegressor(n_estimators=100)\n",
        "model.fit(X_train, Y_train)\n",
        "\n",
        "# Make predictions on the test set\n",
        "Y_pred = model.predict(X_test)\n",
        "\n",
        "# Calculate R-squared (coefficient of determination)\n",
        "r2 = r2_score(Y_test, Y_pred)\n",
        "\n",
        "# Calculate mean squared error (MSE)\n",
        "mse = mean_squared_error(Y_test, Y_pred)\n",
        "\n",
        "aic = AIC(Y_pred, Y_test, X_train)\n",
        "\n",
        "print(f\"R-squared (R2): {r2:.4f}\")\n",
        "print(f\"Mean Squared Error (MSE): {mse:.4f}\")\n",
        "print(f\"AIC: {aic}\")"
      ]
    },
    {
      "cell_type": "markdown",
      "metadata": {
        "id": "LoLgjePyUXcv"
      },
      "source": [
        "## **6. Scatter Plot of Experimental vs Predicted pIC50 Values**"
      ]
    },
    {
      "cell_type": "code",
      "execution_count": null,
      "metadata": {
        "colab": {
          "base_uri": "https://localhost:8080/",
          "height": 564
        },
        "id": "hfqpfjxw3IAK",
        "outputId": "0656a504-cc40-40c7-d06a-2befc5ef9987"
      },
      "outputs": [],
      "source": [
        "# Plotting predicted vs. actual values\n",
        "plt.figure(figsize=(8, 6))\n",
        "plt.scatter(Y_test, Y_pred, color='blue', alpha=0.5)  # Scatter plot of actual vs. predicted values\n",
        "plt.plot([min(Y_test), max(Y_test)], [min(Y_test), max(Y_test)], color='red', linestyle='--')  # Diagonal line\n",
        "plt.xlabel('Actual pIC50')\n",
        "plt.ylabel('Predicted pIC50')\n",
        "plt.title('Actual vs. Predicted pIC50 (All Features + Random Forest)')\n",
        "plt.grid(True)\n",
        "\n",
        "plt.savefig('All_Features_Actual vs. Predicted pIC50.png')\n",
        "plt.show()"
      ]
    },
    {
      "cell_type": "code",
      "execution_count": null,
      "metadata": {
        "id": "PcXE_DqOVY2M"
      },
      "outputs": [],
      "source": [
        "Y_pred_all = model.predict(X)"
      ]
    },
    {
      "cell_type": "code",
      "execution_count": null,
      "metadata": {
        "colab": {
          "base_uri": "https://localhost:8080/"
        },
        "id": "WGNKRZEmzo5d",
        "outputId": "a2372865-1407-4d5f-bf95-48c18bed503f"
      },
      "outputs": [],
      "source": [
        "# Calculate R-squared (coefficient of determination)\n",
        "r2 = r2_score(Y, Y_pred_all)\n",
        "\n",
        "# Calculate mean squared error (MSE)\n",
        "mse = mean_squared_error(Y, Y_pred_all)\n",
        "\n",
        "aic = AIC(Y_pred_all, Y, X_train)\n",
        "\n",
        "print(f\"R-squared (R2): {r2:.4f}\")\n",
        "print(f\"Mean Squared Error (MSE): {mse:.4f}\")\n",
        "print(f\"AIC: {aic}\")"
      ]
    },
    {
      "cell_type": "code",
      "execution_count": null,
      "metadata": {
        "colab": {
          "base_uri": "https://localhost:8080/",
          "height": 564
        },
        "id": "valO93b4VUxb",
        "outputId": "7032514a-eb2a-4b2a-d91d-b4692b237589"
      },
      "outputs": [],
      "source": [
        "# Plotting predicted vs. actual values\n",
        "plt.figure(figsize=(8, 6))\n",
        "plt.scatter(Y, Y_pred_all, color='blue', alpha=0.5)  # Scatter plot of actual vs. predicted values\n",
        "plt.plot([min(Y_test), max(Y_test)], [min(Y_test), max(Y_test)], color='red', linestyle='--')  # Diagonal line\n",
        "plt.xlabel('Actual pIC50')\n",
        "plt.ylabel('Predicted pIC50')\n",
        "plt.title('Actual vs. Predicted pIC50 (All Features + Random Forest)')\n",
        "plt.grid(True)\n",
        "\n",
        "plt.savefig('All_Features_Actual vs. Predicted pIC50_entire_dataset.png')\n",
        "plt.show()"
      ]
    },
    {
      "cell_type": "code",
      "execution_count": null,
      "metadata": {
        "colab": {
          "base_uri": "https://localhost:8080/",
          "height": 1000
        },
        "id": "J81aD0d8sPeg",
        "outputId": "e98ed726-3d39-4ba6-efa1-1cf658a63536"
      },
      "outputs": [],
      "source": [
        "import matplotlib.pyplot as plt\n",
        "import numpy as np\n",
        "from sklearn.model_selection import train_test_split\n",
        "from sklearn.linear_model import LinearRegression, Ridge, Lasso\n",
        "from sklearn.ensemble import RandomForestRegressor, GradientBoostingRegressor\n",
        "from sklearn.neighbors import KNeighborsRegressor\n",
        "from sklearn.tree import DecisionTreeRegressor\n",
        "from sklearn.svm import SVR\n",
        "from sklearn.metrics import mean_squared_error, r2_score\n",
        "\n",
        "# Split data into train and test sets\n",
        "X_train, X_test, Y_train, Y_test = train_test_split(X, Y, test_size=0.2, random_state=42)\n",
        "\n",
        "# Define a list of models to evaluate\n",
        "models = [\n",
        "    (\"Linear Regression\", LinearRegression()),\n",
        "    (\"Ridge Regression\", Ridge(alpha=1.0)),\n",
        "    (\"Lasso Regression\", Lasso(alpha=1.0)),\n",
        "    (\"Random Forest\", RandomForestRegressor(n_estimators=100, random_state=42)),\n",
        "    (\"Gradient Boosting\", GradientBoostingRegressor(n_estimators=100, random_state=42)),\n",
        "    (\"K-Nearest Neighbors\", KNeighborsRegressor(n_neighbors=5)),\n",
        "    (\"Decision Tree\", DecisionTreeRegressor(random_state=42)),\n",
        "    (\"Support Vector Regression\", SVR(kernel='rbf'))\n",
        "]\n",
        "\n",
        "# Iterate over each model\n",
        "for name, model in models:\n",
        "    # Fit the model\n",
        "    model.fit(X_train, Y_train)\n",
        "\n",
        "    # Make predictions\n",
        "    y_pred = model.predict(X_test)\n",
        "\n",
        "    # Calculate evaluation metrics\n",
        "    mse = mean_squared_error(Y_test, y_pred)\n",
        "    r2 = r2_score(Y_test, y_pred)\n",
        "    aic = AIC(y_pred, Y_test, X_train)\n",
        "\n",
        "    # Plot predicted vs true values\n",
        "    plt.figure(figsize=(7, 5))\n",
        "    plt.scatter(Y_test, y_pred, color='blue', alpha=0.5)\n",
        "    plt.plot([min(Y_test), max(Y_test)], [min(Y_test), max(Y_test)], '--', color='red', linewidth=2)\n",
        "    plt.title(f\"{name} - Predicted vs True Values\")\n",
        "    plt.xlabel(\"True Values\")\n",
        "    plt.ylabel(\"Predicted Values\")\n",
        "    plt.grid(True)\n",
        "    plt.tight_layout()\n",
        "\n",
        "    # Display evaluation metrics\n",
        "    plt.text(0.95, 0.05, f\"MSE: {mse:.2f}\\nR^2: {r2:.2f}\", ha='right', va='bottom', transform=plt.gca().transAxes, fontsize=10, bbox=dict(boxstyle='round', facecolor='white', alpha=0.8))\n",
        "\n",
        "    # Save or show plot\n",
        "    plt.savefig(f\"All_Features_{name}_predicted_vs_true.png\")\n",
        "    #plt.show()\n",
        "\n",
        "    # Display results\n",
        "    print(f\"Model: {name}\")\n",
        "    print(f\"Mean Squared Error: {mse:.2f}\")\n",
        "    print(f\"R^2 Score: {r2:.2f}\")\n",
        "    print(\"--------------------\")\n"
      ]
    },
    {
      "cell_type": "code",
      "execution_count": null,
      "metadata": {
        "colab": {
          "base_uri": "https://localhost:8080/",
          "height": 1000
        },
        "id": "nD3NQlPN2yFI",
        "outputId": "b32df313-ad4d-438f-8983-56549333c734"
      },
      "outputs": [],
      "source": [
        "# Predictions on All Data\n",
        "\n",
        "# Iterate over each model\n",
        "for name, model in models:\n",
        "    # Fit the model on the entire dataset\n",
        "    model.fit(X_train, Y_train)\n",
        "\n",
        "    # Make predictions on the entire dataset\n",
        "    y_pred = model.predict(X)\n",
        "\n",
        "    # Calculate evaluation metrics\n",
        "    mse = mean_squared_error(Y, y_pred)\n",
        "    r2 = r2_score(Y, y_pred)\n",
        "    aic = AIC(y_pred, Y, X_train)\n",
        "\n",
        "    # Plot predicted vs true values\n",
        "    plt.figure(figsize=(8, 6))\n",
        "    plt.scatter(Y, y_pred, color='blue', alpha=0.5)\n",
        "    plt.plot([min(Y), max(Y)], [min(Y), max(Y)], '--', color='red', linewidth=2)\n",
        "    plt.title(f\"{name} - Predicted vs True Values (Entire Dataset)\")\n",
        "    plt.xlabel(\"True Values\")\n",
        "    plt.ylabel(\"Predicted Values\")\n",
        "    plt.grid(True)\n",
        "    plt.tight_layout()\n",
        "\n",
        "    # Display evaluation metrics\n",
        "    plt.text(0.95, 0.05, f\"MSE: {mse:.3f}\\nR2: {r2:.3f}\\nAIC: {aic:.3f}\", ha='right', va='bottom', transform=plt.gca().transAxes, fontsize=10, bbox=dict(boxstyle='round', facecolor='white', alpha=0.8))\n",
        "\n",
        "    # Save or show plot\n",
        "    plt.savefig(f\"All_Features_{name}_entire_dataset_predicted_vs_true.png\")\n",
        "    plt.show()\n"
      ]
    }
  ],
  "metadata": {
    "colab": {
      "provenance": []
    },
    "kernelspec": {
      "display_name": "Python 3",
      "language": "python",
      "name": "python3"
    },
    "language_info": {
      "codemirror_mode": {
        "name": "ipython",
        "version": 3
      },
      "file_extension": ".py",
      "mimetype": "text/x-python",
      "name": "python",
      "nbconvert_exporter": "python",
      "pygments_lexer": "ipython3",
      "version": "3.7.6"
    }
  },
  "nbformat": 4,
  "nbformat_minor": 0
}
