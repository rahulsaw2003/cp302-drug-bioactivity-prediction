{
  "cells": [
    {
      "cell_type": "markdown",
      "metadata": {
        "id": "o-4IOizard4P"
      },
      "source": [
        "## **Download PaDEL-Descriptor**"
      ]
    },
    {
      "cell_type": "code",
      "execution_count": null,
      "metadata": {
        "id": "H0mjQ2PcrSe5"
      },
      "outputs": [],
      "source": [
        "! wget https://github.com/dataprofessor/bioinformatics/raw/master/padel.zip\n",
        "! wget https://github.com/dataprofessor/bioinformatics/raw/master/padel.sh"
      ]
    },
    {
      "cell_type": "code",
      "execution_count": null,
      "metadata": {
        "id": "64HnTL4tS-nA"
      },
      "outputs": [],
      "source": [
        "! unzip padel.zip"
      ]
    },
    {
      "cell_type": "code",
      "execution_count": null,
      "metadata": {
        "id": "Fpu5C7HlwV9s"
      },
      "outputs": [],
      "source": [
        "import pandas as pd"
      ]
    },
    {
      "cell_type": "code",
      "execution_count": null,
      "metadata": {
        "id": "GCcE8J5XwjtB"
      },
      "outputs": [],
      "source": [
        "df3 = pd.read_csv('/content/02_PGES_bioactivity_data_3class_pIC50.csv')"
      ]
    },
    {
      "cell_type": "code",
      "execution_count": null,
      "metadata": {
        "colab": {
          "base_uri": "https://localhost:8080/",
          "height": 423
        },
        "id": "60z_N6egNiSJ",
        "outputId": "7e964f18-61c8-4a12-b335-27d7e91c537a"
      },
      "outputs": [],
      "source": [
        "df3"
      ]
    },
    {
      "cell_type": "code",
      "execution_count": null,
      "metadata": {
        "id": "BJDJkY43R-9F"
      },
      "outputs": [],
      "source": [
        "selection = ['canonical_smiles','molecule_chembl_id']\n",
        "df3_selection = df3[selection]\n",
        "df3_selection.to_csv('molecule.smi', sep='\\t', index=False, header=False)"
      ]
    },
    {
      "cell_type": "code",
      "execution_count": null,
      "metadata": {
        "colab": {
          "base_uri": "https://localhost:8080/"
        },
        "id": "nRSCoPVDSkf5",
        "outputId": "08e2c6a7-281c-410d-9524-bfe32bd3ca9c"
      },
      "outputs": [],
      "source": [
        "! cat molecule.smi | head -5"
      ]
    },
    {
      "cell_type": "code",
      "execution_count": null,
      "metadata": {
        "colab": {
          "base_uri": "https://localhost:8080/"
        },
        "id": "GlYaJ9pzUGjS",
        "outputId": "898e7241-dd36-4b3d-8f9e-f82d9a083e4e"
      },
      "outputs": [],
      "source": [
        "! cat molecule.smi | wc -l"
      ]
    },
    {
      "cell_type": "markdown",
      "metadata": {
        "id": "YzN_S4Quro5S"
      },
      "source": [
        "## **Calculate fingerprint descriptors**\n"
      ]
    },
    {
      "cell_type": "markdown",
      "metadata": {
        "id": "JsgTV-ByxdMa"
      },
      "source": [
        "### **Calculate PaDEL descriptors**"
      ]
    },
    {
      "cell_type": "code",
      "execution_count": null,
      "metadata": {
        "colab": {
          "base_uri": "https://localhost:8080/"
        },
        "id": "hSCopQvEiSMj",
        "outputId": "17a5f460-094e-4d25-e2ed-21a5a4485de2"
      },
      "outputs": [],
      "source": [
        "! cat padel.sh"
      ]
    },
    {
      "cell_type": "code",
      "execution_count": null,
      "metadata": {
        "colab": {
          "background_save": true
        },
        "id": "6kN9jrGpS5nE"
      },
      "outputs": [],
      "source": [
        "! bash padel.sh"
      ]
    },
    {
      "cell_type": "code",
      "execution_count": null,
      "metadata": {
        "colab": {
          "base_uri": "https://localhost:8080/"
        },
        "id": "2p7rAVy_k_hH",
        "outputId": "6a46c6e6-9d52-4598-8fac-55d0fd9d3af5"
      },
      "outputs": [],
      "source": [
        "! ls -l"
      ]
    },
    {
      "cell_type": "markdown",
      "metadata": {
        "id": "gUMlPfFrxicj"
      },
      "source": [
        "## **Preparing the X and Y Data Matrices**"
      ]
    },
    {
      "cell_type": "markdown",
      "metadata": {
        "id": "30aa4WP4ZA8M"
      },
      "source": [
        "### **X data matrix**"
      ]
    },
    {
      "cell_type": "code",
      "execution_count": null,
      "metadata": {
        "colab": {
          "base_uri": "https://localhost:8080/",
          "height": 478
        },
        "id": "0rRWiJfla9i7",
        "outputId": "f8b8aaf4-100d-4a7b-b899-410e3b73f3ce"
      },
      "outputs": [],
      "source": [
        "df3"
      ]
    },
    {
      "cell_type": "code",
      "execution_count": null,
      "metadata": {
        "id": "3g319qxVl7tY"
      },
      "outputs": [],
      "source": [
        "df3_X = pd.read_csv('descriptors_output.csv')"
      ]
    },
    {
      "cell_type": "code",
      "execution_count": null,
      "metadata": {
        "colab": {
          "base_uri": "https://localhost:8080/",
          "height": 443
        },
        "id": "hBp1PTObFQDd",
        "outputId": "14d95ad5-82b6-46a0-a227-6aeb9db1a336"
      },
      "outputs": [],
      "source": [
        "df3_X"
      ]
    },
    {
      "cell_type": "code",
      "execution_count": null,
      "metadata": {
        "colab": {
          "base_uri": "https://localhost:8080/",
          "height": 443
        },
        "id": "dTJsDPBKq_hr",
        "outputId": "166701c3-685f-4beb-a7a2-a0b5736bd88f"
      },
      "outputs": [],
      "source": [
        "df3_X = df3_X.drop(columns=['Name'])\n",
        "df3_X"
      ]
    },
    {
      "cell_type": "markdown",
      "metadata": {
        "id": "6ePu814KZNBG"
      },
      "source": [
        "## **Y variable**"
      ]
    },
    {
      "cell_type": "markdown",
      "metadata": {
        "id": "9ssfxFCdr7ua"
      },
      "source": [
        "### **Convert IC50 to pIC50**"
      ]
    },
    {
      "cell_type": "code",
      "execution_count": null,
      "metadata": {
        "colab": {
          "base_uri": "https://localhost:8080/"
        },
        "id": "FlhsSEW5FXTG",
        "outputId": "4c2136e3-7a05-4547-fc4a-44ebd8a82044"
      },
      "outputs": [],
      "source": [
        "df3_Y = df3['pIC50']\n",
        "df3_Y"
      ]
    },
    {
      "cell_type": "markdown",
      "metadata": {
        "id": "eET6iZ1Aw3oe"
      },
      "source": [
        "## **Combining X and Y variable**"
      ]
    },
    {
      "cell_type": "code",
      "execution_count": null,
      "metadata": {
        "colab": {
          "base_uri": "https://localhost:8080/",
          "height": 443
        },
        "id": "FRBfBP3QxFJp",
        "outputId": "7637ed5d-4b80-49c3-8439-adb29ef4a774"
      },
      "outputs": [],
      "source": [
        "dataset3 = pd.concat([df3_X,df3_Y], axis=1)\n",
        "dataset3"
      ]
    },
    {
      "cell_type": "code",
      "execution_count": null,
      "metadata": {
        "id": "75npGyvhae0e"
      },
      "outputs": [],
      "source": [
        "dataset3.to_csv('03_aromatase_bioactivity_data_3class_pIC50_pubchem_fp.csv', index=False)"
      ]
    }
  ],
  "metadata": {
    "colab": {
      "provenance": []
    },
    "kernelspec": {
      "display_name": "Python 3",
      "name": "python3"
    }
  },
  "nbformat": 4,
  "nbformat_minor": 0
}
